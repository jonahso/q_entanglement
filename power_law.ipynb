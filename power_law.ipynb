{
 "cells": [
  {
   "cell_type": "markdown",
   "id": "8b24f5d3",
   "metadata": {},
   "source": [
    "# Power law Hamiltonian"
   ]
  },
  {
   "cell_type": "code",
   "execution_count": 1,
   "id": "a5bcd8c0",
   "metadata": {},
   "outputs": [],
   "source": [
    "from glue_tree import *\n",
    "from plot_config import *\n",
    "from spin import Power_Law"
   ]
  },
  {
   "cell_type": "code",
   "execution_count": 2,
   "id": "dbe69634",
   "metadata": {},
   "outputs": [
    {
     "name": "stdout",
     "output_type": "stream",
     "text": [
      "The Hamiltonian: \n",
      " SparsePauliOp(['IIIXX', 'IIXIX', 'IXIIX', 'XIIIX', 'IIXXI', 'IXIXI', 'XIIXI', 'IXXII', 'XIXII', 'XXIII', 'IIIYY', 'IIYIY', 'IYIIY', 'YIIIY', 'IIYYI', 'IYIYI', 'YIIYI', 'IYYII', 'YIYII', 'YYIII', 'IIIZZ', 'IIZIZ', 'IZIIZ', 'ZIIIZ', 'IIZZI', 'IZIZI', 'ZIIZI', 'IZZII', 'ZIZII', 'ZZIII', 'IIIIX', 'IIIXI', 'IIXII', 'IXIII', 'XIIII', 'IIIIY', 'IIIYI', 'IIYII', 'IYIII', 'YIIII', 'IIIIZ', 'IIIZI', 'IIZII', 'IZIII', 'ZIIII'],\n",
      "              coeffs=[1.        +0.j, 0.0625    +0.j, 0.01234568+0.j, 0.00390625+0.j,\n",
      " 1.        +0.j, 0.0625    +0.j, 0.01234568+0.j, 1.        +0.j,\n",
      " 0.0625    +0.j, 1.        +0.j, 1.        +0.j, 0.0625    +0.j,\n",
      " 0.01234568+0.j, 0.00390625+0.j, 1.        +0.j, 0.0625    +0.j,\n",
      " 0.01234568+0.j, 1.        +0.j, 0.0625    +0.j, 1.        +0.j,\n",
      " 1.        +0.j, 0.0625    +0.j, 0.01234568+0.j, 0.00390625+0.j,\n",
      " 1.        +0.j, 0.0625    +0.j, 0.01234568+0.j, 1.        +0.j,\n",
      " 0.0625    +0.j, 1.        +0.j, 1.        +0.j, 1.        +0.j,\n",
      " 1.        +0.j, 1.        +0.j, 1.        +0.j, 1.        +0.j,\n",
      " 1.        +0.j, 1.        +0.j, 1.        +0.j, 1.        +0.j,\n",
      " 1.        +0.j, 1.        +0.j, 1.        +0.j, 1.        +0.j,\n",
      " 1.        +0.j])\n"
     ]
    }
   ],
   "source": [
    "H_pl = Power_Law(n=5, alpha=4, Jx=1, Jy=1, Jz=1, hx=1, hy=1, hz=1, pbc=False, verbose=True)"
   ]
  }
 ],
 "metadata": {
  "kernelspec": {
   "display_name": "base",
   "language": "python",
   "name": "python3"
  },
  "language_info": {
   "codemirror_mode": {
    "name": "ipython",
    "version": 3
   },
   "file_extension": ".py",
   "mimetype": "text/x-python",
   "name": "python",
   "nbconvert_exporter": "python",
   "pygments_lexer": "ipython3",
   "version": "3.10.16"
  }
 },
 "nbformat": 4,
 "nbformat_minor": 5
}
